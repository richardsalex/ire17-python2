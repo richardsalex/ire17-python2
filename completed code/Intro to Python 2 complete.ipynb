{
 "cells": [
  {
   "cell_type": "markdown",
   "metadata": {},
   "source": [
    "# Intro to Python 2\n"
   ]
  },
  {
   "cell_type": "markdown",
   "metadata": {},
   "source": [
    "### List refresher\n",
    "\n",
    "Let's create a quick list. Type your own or copy and paste this line:\n",
    "```python\n",
    "cities = ['Detroit', 'Chicago', 'Sacramento', 'Kansas City', 'Indianapolis', 'Portland', 'Little Rock']\n",
    "```\n"
   ]
  },
  {
   "cell_type": "code",
   "execution_count": 1,
   "metadata": {},
   "outputs": [],
   "source": [
    "cities = ['Detroit', 'Chicago', 'Sacramento', 'Kansas City', 'Indianapolis', 'Portland', 'Little Rock']"
   ]
  },
  {
   "cell_type": "markdown",
   "metadata": {},
   "source": [
    "### `for` loops\n",
    "\n",
    "A fundamental structure in Python that let you iterate over a set of things — like items in a list or dictionary — and perform the same actions on them.\n",
    "\n",
    "As an example, this would be a really inefficient way to print every item in my list of cities:\n",
    "\n",
    "```python\n",
    "print(cities[0])\n",
    "print(cities[1])\n",
    "print(cities[2])\n",
    "...\n",
    "```\n",
    "\n",
    "But a basic `for` loop solves this problem with ease:\n",
    "\n",
    "```python\n",
    "for item in cities:\n",
    "    print(item)\n",
    "```"
   ]
  },
  {
   "cell_type": "code",
   "execution_count": 2,
   "metadata": {},
   "outputs": [
    {
     "name": "stdout",
     "output_type": "stream",
     "text": [
      "Detroit\n",
      "Chicago\n",
      "Sacramento\n",
      "Kansas City\n",
      "Indianapolis\n",
      "Portland\n",
      "Little Rock\n"
     ]
    }
   ],
   "source": [
    "for item in cities:\n",
    "    print(item)"
   ]
  },
  {
   "cell_type": "markdown",
   "metadata": {},
   "source": [
    "So what's happening here?\n",
    "\n",
    "Our `for` loop defines a variable to hold each item in the list on the fly as it steps through each one — in this case, the appropriately named `item`.\n",
    "\n",
    "If we print `item` again, what do you expect to see and why?"
   ]
  },
  {
   "cell_type": "code",
   "execution_count": 3,
   "metadata": {},
   "outputs": [
    {
     "name": "stdout",
     "output_type": "stream",
     "text": [
      "Little Rock\n"
     ]
    }
   ],
   "source": [
    "print(item)"
   ]
  },
  {
   "cell_type": "markdown",
   "metadata": {},
   "source": [
    "OK, so what if we change `item` to something else? (And if it doesn't do what we expect, how could we fix it?)"
   ]
  },
  {
   "cell_type": "code",
   "execution_count": 4,
   "metadata": {},
   "outputs": [
    {
     "name": "stdout",
     "output_type": "stream",
     "text": [
      "Little Rock\n",
      "Little Rock\n",
      "Little Rock\n",
      "Little Rock\n",
      "Little Rock\n",
      "Little Rock\n",
      "Little Rock\n"
     ]
    }
   ],
   "source": [
    "for banana in cities:\n",
    "    print(item)"
   ]
  },
  {
   "cell_type": "markdown",
   "metadata": {},
   "source": [
    "### More string formatting\n",
    "\n",
    "`str.format()` provides a slick way to intersperse a text template with other elements.\n",
    "\n",
    "```python\n",
    "my_name = 'Alex'\n",
    "print('Hey, my name is {}'.format(my_name))\n",
    "```\n",
    "\n",
    "Let's try it with a couple of variables. Also, what happens if we change their order?"
   ]
  },
  {
   "cell_type": "code",
   "execution_count": 5,
   "metadata": {},
   "outputs": [
    {
     "name": "stdout",
     "output_type": "stream",
     "text": [
      "My name is Alex Richards. I am 36.\n"
     ]
    }
   ],
   "source": [
    "age = 36\n",
    "my_name = 'Alex Richards'\n",
    "some_string = 'My name is {}. I am {}.'.format(my_name, age)\n",
    "print(some_string)"
   ]
  },
  {
   "cell_type": "markdown",
   "metadata": {},
   "source": [
    "This is obviously overkill for the sake of a single string. It can really come in handy when used in tandem with a `for` loop, though."
   ]
  },
  {
   "cell_type": "code",
   "execution_count": 6,
   "metadata": {},
   "outputs": [
    {
     "name": "stdout",
     "output_type": "stream",
     "text": [
      "Detroit has 7 characters in its name. WHOA, DETROIT!\n",
      "Chicago has 7 characters in its name. WHOA, CHICAGO!\n",
      "Sacramento has 10 characters in its name. WHOA, SACRAMENTO!\n",
      "Kansas City has 10 characters in its name. WHOA, KANSAS CITY!\n",
      "Indianapolis has 12 characters in its name. WHOA, INDIANAPOLIS!\n",
      "Portland has 8 characters in its name. WHOA, PORTLAND!\n",
      "Little Rock has 10 characters in its name. WHOA, LITTLE ROCK!\n"
     ]
    }
   ],
   "source": [
    "for item in cities:\n",
    "    true_len = len(item.replace(' ', '')) # replace spaces with nothing \n",
    "    new_string = '{0} has {1} characters in its name. WHOA, {2}!'.format(item, true_len, item.upper())\n",
    "    print(new_string)"
   ]
  },
  {
   "cell_type": "markdown",
   "metadata": {},
   "source": [
    "It's also easy to extend your template, too, instead of starting over."
   ]
  },
  {
   "cell_type": "code",
   "execution_count": 7,
   "metadata": {},
   "outputs": [
    {
     "name": "stdout",
     "output_type": "stream",
     "text": [
      "Detroit has 7 characters in its name. WHOA, DETROIT! Did you know that Detroit spelled backwards is 'tiorted'?\n",
      "Chicago has 7 characters in its name. WHOA, CHICAGO! Did you know that Chicago spelled backwards is 'ogacihc'?\n",
      "Sacramento has 10 characters in its name. WHOA, SACRAMENTO! Did you know that Sacramento spelled backwards is 'otnemarcas'?\n",
      "Kansas City has 10 characters in its name. WHOA, KANSAS CITY! Did you know that Kansas City spelled backwards is 'ytic sasnak'?\n",
      "Indianapolis has 12 characters in its name. WHOA, INDIANAPOLIS! Did you know that Indianapolis spelled backwards is 'silopanaidni'?\n",
      "Portland has 8 characters in its name. WHOA, PORTLAND! Did you know that Portland spelled backwards is 'dnaltrop'?\n",
      "Little Rock has 10 characters in its name. WHOA, LITTLE ROCK! Did you know that Little Rock spelled backwards is 'kcor elttil'?\n"
     ]
    }
   ],
   "source": [
    "for item in cities:\n",
    "    true_len = len(item.replace(' ', '')) # replace spaces with nothing\n",
    "    backwards = ''.join(reversed(item)) # treat string like list of characters, join them together in reverse\n",
    "    new_string = '{0} has {1} characters in its name. WHOA, {2}! Did you know that {0} spelled backwards is \\'{3}\\'?'.format(item, true_len, item.upper(), backwards.lower())\n",
    "    print(new_string)"
   ]
  },
  {
   "cell_type": "markdown",
   "metadata": {},
   "source": [
    "### `if` statements\n",
    "\n",
    "A way to run different sections of your script depending on conditions. As pseudocode:\n",
    "\n",
    "```python\n",
    "if logical comparison:\n",
    "    do this\n",
    "else:\n",
    "    do this instead\n",
    "```\n",
    "\n",
    "Let's try a simple one."
   ]
  },
  {
   "cell_type": "code",
   "execution_count": 8,
   "metadata": {},
   "outputs": [
    {
     "name": "stdout",
     "output_type": "stream",
     "text": [
      "The number is higher than four.\n"
     ]
    }
   ],
   "source": [
    "some_number = 20\n",
    "\n",
    "if some_number > 4:\n",
    "    print('The number is higher than four.')\n",
    "else:\n",
    "    print('The number is four or lower.')"
   ]
  },
  {
   "cell_type": "markdown",
   "metadata": {},
   "source": [
    "You can have it check for different cases, as well, that it will handle sequentially."
   ]
  },
  {
   "cell_type": "code",
   "execution_count": 9,
   "metadata": {},
   "outputs": [
    {
     "name": "stdout",
     "output_type": "stream",
     "text": [
      "Nope! Not even close.\n"
     ]
    }
   ],
   "source": [
    "some_string = 'Peter'\n",
    "\n",
    "if some_string == 'Alex':\n",
    "    print('A perfect match.')\n",
    "elif len(some_string) == 4:\n",
    "    print('It has the correct length, but it isn\\'t the right string.')\n",
    "else:\n",
    "    print('Nope! Not even close.')"
   ]
  },
  {
   "cell_type": "markdown",
   "metadata": {},
   "source": [
    "### Reading and writing data from Python\n",
    "\n",
    "Python has an included module called `csv` that makes it easy to work with delimited data files. We can import it to extend the functionality of our code.\n",
    "\n",
    "To interact with it, we'll use a `with` statement: `with` some designated file held open — one that we want to write to or read from — the script will execute a set of instructions and automatically close the file at the end."
   ]
  },
  {
   "cell_type": "code",
   "execution_count": 10,
   "metadata": {},
   "outputs": [],
   "source": [
    "import csv\n",
    "\n",
    "with open('banklist.csv', 'r') as infile:\n",
    "    reader = csv.reader(infile)\n",
    "    data = list(reader)"
   ]
  },
  {
   "cell_type": "markdown",
   "metadata": {},
   "source": [
    "We can check the number of rows and sample a row from `data` to see what it looks like."
   ]
  },
  {
   "cell_type": "code",
   "execution_count": 11,
   "metadata": {},
   "outputs": [
    {
     "name": "stdout",
     "output_type": "stream",
     "text": [
      "556\n",
      "['1st Commerce Bank', 'North Las Vegas', 'NV', '58358', 'Plaza Bank', '6-Jun-13', '12-Jul-13']\n"
     ]
    }
   ],
   "source": [
    "print(len(data))\n",
    "print(data[49])"
   ]
  },
  {
   "cell_type": "markdown",
   "metadata": {},
   "source": [
    "We can output a copy with the `csv` module, too."
   ]
  },
  {
   "cell_type": "code",
   "execution_count": 12,
   "metadata": {},
   "outputs": [],
   "source": [
    "with open('banklist_copy.csv', 'w') as outfile:\n",
    "    writer = csv.writer(outfile)\n",
    "    writer.writerows(data)"
   ]
  },
  {
   "cell_type": "markdown",
   "metadata": {},
   "source": [
    "We can also use `for` loops and `if` statements together to make a filtered copy of the original file."
   ]
  },
  {
   "cell_type": "code",
   "execution_count": 13,
   "metadata": {},
   "outputs": [],
   "source": [
    "with open('banklist_CA.csv', 'w') as outfile:\n",
    "    writer = csv.writer(outfile)\n",
    "    for row in data:\n",
    "        if row[2] == 'CA':\n",
    "            writer.writerow(row)"
   ]
  },
  {
   "cell_type": "markdown",
   "metadata": {},
   "source": [
    "### Functions\n",
    "\n",
    "With functions, you can reuse parts of your code without having to repeat yourself again and again.\n",
    "\n",
    "A simple one will just execute code without any arguments:"
   ]
  },
  {
   "cell_type": "code",
   "execution_count": 14,
   "metadata": {},
   "outputs": [
    {
     "name": "stdout",
     "output_type": "stream",
     "text": [
      "word\n"
     ]
    }
   ],
   "source": [
    "def word():\n",
    "    print('word')\n",
    "\n",
    "word()"
   ]
  },
  {
   "cell_type": "markdown",
   "metadata": {},
   "source": [
    "Or we can pass it arguments that the function will manipulate."
   ]
  },
  {
   "cell_type": "code",
   "execution_count": 15,
   "metadata": {},
   "outputs": [],
   "source": [
    "def square(num):\n",
    "    return num * num\n",
    "\n",
    "square(4)"
   ]
  },
  {
   "cell_type": "markdown",
   "metadata": {},
   "source": [
    "Let's try putting this into action a different way. We already have a list of cities; let's make another and then put them together in another variable. Instead of one longer list, we'll have a list that contains two separate lists."
   ]
  },
  {
   "cell_type": "code",
   "execution_count": 17,
   "metadata": {},
   "outputs": [
    {
     "name": "stdout",
     "output_type": "stream",
     "text": [
      "[['Detroit', 'Chicago', 'Sacramento', 'Kansas City', 'Indianapolis', 'Portland', 'Little Rock'], ['Honda', 'Toyota', 'Volkswagen', 'Ford']]\n"
     ]
    }
   ],
   "source": [
    "cars = ['Honda', 'Toyota', 'Volkswagen', 'Ford']\n",
    "my_lists = [cities, cars]\n",
    "print(my_lists)"
   ]
  },
  {
   "cell_type": "markdown",
   "metadata": {},
   "source": [
    "We can link `for` loops together to step through nested items, too."
   ]
  },
  {
   "cell_type": "code",
   "execution_count": 18,
   "metadata": {},
   "outputs": [
    {
     "name": "stdout",
     "output_type": "stream",
     "text": [
      "This list has 7 items:\n",
      "- Detroit\n",
      "- Chicago\n",
      "- Sacramento\n",
      "- Kansas City\n",
      "- Indianapolis\n",
      "- Portland\n",
      "- Little Rock\n",
      "\r\n",
      "This list has 4 items:\n",
      "- Honda\n",
      "- Toyota\n",
      "- Volkswagen\n",
      "- Ford\n",
      "\r\n"
     ]
    }
   ],
   "source": [
    "for whole_list in my_lists:\n",
    "    print('This list has {} items:'.format(len(whole_list)))\n",
    "    for item in whole_list:\n",
    "        print('- {}'.format(item))\n",
    "    print('\\r')"
   ]
  },
  {
   "cell_type": "markdown",
   "metadata": {},
   "source": [
    "Let's turn it into a function that can work on any list filled with other lists. What needs to change?"
   ]
  },
  {
   "cell_type": "code",
   "execution_count": 19,
   "metadata": {},
   "outputs": [
    {
     "name": "stdout",
     "output_type": "stream",
     "text": [
      "This list has 7 items:\n",
      "- Detroit\n",
      "- Chicago\n",
      "- Sacramento\n",
      "- Kansas City\n",
      "- Indianapolis\n",
      "- Portland\n",
      "- Little Rock\n",
      "\r\n",
      "This list has 4 items:\n",
      "- Honda\n",
      "- Toyota\n",
      "- Volkswagen\n",
      "- Ford\n",
      "\r\n"
     ]
    }
   ],
   "source": [
    "def prettify_lists(some_lists):\n",
    "    for whole_list in some_lists:\n",
    "        print('This list has {} items:'.format(len(whole_list)))\n",
    "        for item in whole_list:\n",
    "            print('- {}'.format(item))\n",
    "        print('\\r')\n",
    "        \n",
    "prettify_lists(my_lists)"
   ]
  },
  {
   "cell_type": "markdown",
   "metadata": {},
   "source": [
    "We can try this newly-defined function on a similar variable to see if it's working as expected. Make your own or copy and paste this:\n",
    "```python\n",
    "other_lists = [['Alex', 'Dave', 'Bob'], ['Pear', 'Apple'], [4, 18, 200, 5, -40]]\n",
    "```"
   ]
  },
  {
   "cell_type": "code",
   "execution_count": 20,
   "metadata": {},
   "outputs": [
    {
     "name": "stdout",
     "output_type": "stream",
     "text": [
      "This list has 3 items:\n",
      "- Alex\n",
      "- Dave\n",
      "- Bob\n",
      "\r\n",
      "This list has 2 items:\n",
      "- Pear\n",
      "- Apple\n",
      "\r\n",
      "This list has 5 items:\n",
      "- 4\n",
      "- 18\n",
      "- 200\n",
      "- 5\n",
      "- -40\n",
      "\r\n"
     ]
    }
   ],
   "source": [
    "other_lists = [['Alex', 'Dave', 'Bob'], ['Pear', 'Apple'], [4, 18, 200, 5, -40]]\n",
    "\n",
    "prettify_lists(other_lists)"
   ]
  }
 ],
 "metadata": {
  "kernelspec": {
   "display_name": "Python 3",
   "language": "python",
   "name": "python3"
  },
  "language_info": {
   "codemirror_mode": {
    "name": "ipython",
    "version": 3
   },
   "file_extension": ".py",
   "mimetype": "text/x-python",
   "name": "python",
   "nbconvert_exporter": "python",
   "pygments_lexer": "ipython3",
   "version": "3.6.5"
  }
 },
 "nbformat": 4,
 "nbformat_minor": 2
}
