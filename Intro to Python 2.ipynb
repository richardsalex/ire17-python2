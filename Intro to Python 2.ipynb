{
 "cells": [
  {
   "cell_type": "markdown",
   "metadata": {},
   "source": [
    "# Intro to Python 2\n"
   ]
  },
  {
   "cell_type": "markdown",
   "metadata": {},
   "source": [
    "### List refresher\n",
    "\n",
    "Let's create a quick list. Type your own or copy and paste this line:\n",
    "```python\n",
    "cities = ['Detroit', 'Chicago', 'Sacramento', 'Kansas City', 'Indianapolis', 'Portland', 'Little Rock']\n",
    "```\n"
   ]
  },
  {
   "cell_type": "code",
   "execution_count": null,
   "metadata": {},
   "outputs": [],
   "source": []
  },
  {
   "cell_type": "markdown",
   "metadata": {},
   "source": [
    "### `for` loops\n",
    "\n",
    "A fundamental structure in Python that let you iterate over a set of things — like items in a list or dictionary — and perform the same actions on them.\n",
    "\n",
    "As an example, this would be a really inefficient way to print every item in my list of cities:\n",
    "\n",
    "```python\n",
    "print(cities[0])\n",
    "print(cities[1])\n",
    "print(cities[2])\n",
    "...\n",
    "```\n",
    "\n",
    "But a basic `for` loop solves this problem with ease:\n",
    "\n",
    "```python\n",
    "for item in cities:\n",
    "    print(item)\n",
    "```"
   ]
  },
  {
   "cell_type": "code",
   "execution_count": null,
   "metadata": {},
   "outputs": [],
   "source": []
  },
  {
   "cell_type": "markdown",
   "metadata": {},
   "source": [
    "So what's happening here?\n",
    "\n",
    "Our `for` loop defines a variable to hold each item in the list on the fly as it steps through each one — in this case, the appropriately named `item`.\n",
    "\n",
    "If we print `item` again, what do you expect to see and why?"
   ]
  },
  {
   "cell_type": "code",
   "execution_count": null,
   "metadata": {},
   "outputs": [],
   "source": []
  },
  {
   "cell_type": "markdown",
   "metadata": {},
   "source": [
    "OK, so what if we change `item` to something else? (And if it doesn't do what we expect, how could we fix it?)"
   ]
  },
  {
   "cell_type": "code",
   "execution_count": null,
   "metadata": {},
   "outputs": [],
   "source": []
  },
  {
   "cell_type": "markdown",
   "metadata": {},
   "source": [
    "### More string formatting\n",
    "\n",
    "`str.format()` provides a slick way to intersperse a text template with other elements.\n",
    "\n",
    "```python\n",
    "my_name = 'Alex'\n",
    "print('Hey, my name is {}'.format(my_name))\n",
    "```\n",
    "\n",
    "Let's try it with a couple of variables. Also, what happens if we change their order?"
   ]
  },
  {
   "cell_type": "code",
   "execution_count": null,
   "metadata": {},
   "outputs": [],
   "source": []
  },
  {
   "cell_type": "markdown",
   "metadata": {},
   "source": [
    "This is obviously overkill for the sake of a single string. It can really come in handy when used in tandem with a `for` loop, though."
   ]
  },
  {
   "cell_type": "code",
   "execution_count": null,
   "metadata": {},
   "outputs": [],
   "source": []
  },
  {
   "cell_type": "markdown",
   "metadata": {},
   "source": [
    "It's also easy to extend your template, too, instead of starting over."
   ]
  },
  {
   "cell_type": "code",
   "execution_count": null,
   "metadata": {},
   "outputs": [],
   "source": []
  },
  {
   "cell_type": "markdown",
   "metadata": {},
   "source": [
    "### `if` statements\n",
    "\n",
    "A way to run different sections of your script depending on conditions. As pseudocode:\n",
    "\n",
    "```python\n",
    "if logical comparison:\n",
    "    do this\n",
    "else:\n",
    "    do this instead\n",
    "```\n",
    "\n",
    "Let's try a simple one."
   ]
  },
  {
   "cell_type": "code",
   "execution_count": null,
   "metadata": {},
   "outputs": [],
   "source": []
  },
  {
   "cell_type": "markdown",
   "metadata": {},
   "source": [
    "You can have it check for different cases, as well, that it will handle sequentially."
   ]
  },
  {
   "cell_type": "code",
   "execution_count": null,
   "metadata": {},
   "outputs": [],
   "source": []
  },
  {
   "cell_type": "markdown",
   "metadata": {},
   "source": [
    "### Reading and writing data from Python\n",
    "\n",
    "Python has an included module called `csv` that makes it easy to work with delimited data files. We can import it to extend the functionality of our code.\n",
    "\n",
    "To interact with it, we'll use a `with` statement: `with` some designated file held open — one that we want to write to or read from — the script will execute a set of instructions and automatically close the file at the end."
   ]
  },
  {
   "cell_type": "code",
   "execution_count": null,
   "metadata": {},
   "outputs": [],
   "source": []
  },
  {
   "cell_type": "markdown",
   "metadata": {},
   "source": [
    "We can check the number of rows and sample a row from `data` to see what it looks like."
   ]
  },
  {
   "cell_type": "code",
   "execution_count": null,
   "metadata": {},
   "outputs": [],
   "source": []
  },
  {
   "cell_type": "markdown",
   "metadata": {},
   "source": [
    "We can output a copy with the `csv` module, too."
   ]
  },
  {
   "cell_type": "code",
   "execution_count": null,
   "metadata": {},
   "outputs": [],
   "source": []
  },
  {
   "cell_type": "markdown",
   "metadata": {},
   "source": [
    "We can also use `for` loops and `if` statements together to make a filtered copy of the original file."
   ]
  },
  {
   "cell_type": "code",
   "execution_count": null,
   "metadata": {},
   "outputs": [],
   "source": []
  },
  {
   "cell_type": "markdown",
   "metadata": {},
   "source": [
    "### Functions\n",
    "\n",
    "With functions, you can reuse parts of your code without having to repeat yourself again and again.\n",
    "\n",
    "A simple one will just execute code without any arguments:"
   ]
  },
  {
   "cell_type": "code",
   "execution_count": null,
   "metadata": {},
   "outputs": [],
   "source": []
  },
  {
   "cell_type": "markdown",
   "metadata": {},
   "source": [
    "Or we can pass it arguments that the function will manipulate."
   ]
  },
  {
   "cell_type": "code",
   "execution_count": null,
   "metadata": {},
   "outputs": [],
   "source": []
  },
  {
   "cell_type": "markdown",
   "metadata": {},
   "source": [
    "Let's try putting this into action a different way. We already have a list of cities; let's make another and then put them together in another variable. Instead of one longer list, we'll have a list that contains two separate lists."
   ]
  },
  {
   "cell_type": "code",
   "execution_count": null,
   "metadata": {},
   "outputs": [],
   "source": []
  },
  {
   "cell_type": "markdown",
   "metadata": {},
   "source": [
    "We can link `for` loops together to step through nested items, too."
   ]
  },
  {
   "cell_type": "code",
   "execution_count": null,
   "metadata": {},
   "outputs": [],
   "source": []
  },
  {
   "cell_type": "markdown",
   "metadata": {},
   "source": [
    "Let's turn it into a function that can work on any list filled with other lists. What needs to change?"
   ]
  },
  {
   "cell_type": "code",
   "execution_count": null,
   "metadata": {},
   "outputs": [],
   "source": []
  },
  {
   "cell_type": "markdown",
   "metadata": {},
   "source": [
    "We can try this newly-defined function on a similar variable to see if it's working as expected. Make your own or copy and paste this:\n",
    "```python\n",
    "other_lists = [['Alex', 'Dave', 'Bob'], ['Pear', 'Apple'], [4, 18, 200, 5, -40]]\n",
    "```"
   ]
  },
  {
   "cell_type": "code",
   "execution_count": null,
   "metadata": {},
   "outputs": [],
   "source": []
  }
 ],
 "metadata": {
  "kernelspec": {
   "display_name": "Python 3",
   "language": "python",
   "name": "python3"
  },
  "language_info": {
   "codemirror_mode": {
    "name": "ipython",
    "version": 3
   },
   "file_extension": ".py",
   "mimetype": "text/x-python",
   "name": "python",
   "nbconvert_exporter": "python",
   "pygments_lexer": "ipython3",
   "version": "3.6.5"
  }
 },
 "nbformat": 4,
 "nbformat_minor": 2
}
